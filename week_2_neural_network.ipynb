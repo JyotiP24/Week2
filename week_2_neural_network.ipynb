{
  "nbformat": 4,
  "nbformat_minor": 0,
  "metadata": {
    "colab": {
      "provenance": []
    },
    "kernelspec": {
      "name": "python3",
      "display_name": "Python 3"
    },
    "language_info": {
      "name": "python"
    }
  },
  "cells": [
    {
      "cell_type": "code",
      "execution_count": null,
      "metadata": {
        "colab": {
          "base_uri": "https://localhost:8080/"
        },
        "id": "yZIWork6DtWr",
        "outputId": "b9742ae5-f131-4f97-e980-f56b71fb23dd"
      },
      "outputs": [
        {
          "output_type": "stream",
          "name": "stdout",
          "text": [
            "Requirement already satisfied: numpy in /usr/local/lib/python3.10/dist-packages (1.25.2)\n",
            "Requirement already satisfied: tensorflow in /usr/local/lib/python3.10/dist-packages (2.15.0)\n",
            "Requirement already satisfied: pillow in /usr/local/lib/python3.10/dist-packages (9.4.0)\n",
            "Requirement already satisfied: scikit-learn in /usr/local/lib/python3.10/dist-packages (1.2.2)\n",
            "Requirement already satisfied: absl-py>=1.0.0 in /usr/local/lib/python3.10/dist-packages (from tensorflow) (1.4.0)\n",
            "Requirement already satisfied: astunparse>=1.6.0 in /usr/local/lib/python3.10/dist-packages (from tensorflow) (1.6.3)\n",
            "Requirement already satisfied: flatbuffers>=23.5.26 in /usr/local/lib/python3.10/dist-packages (from tensorflow) (24.3.25)\n",
            "Requirement already satisfied: gast!=0.5.0,!=0.5.1,!=0.5.2,>=0.2.1 in /usr/local/lib/python3.10/dist-packages (from tensorflow) (0.6.0)\n",
            "Requirement already satisfied: google-pasta>=0.1.1 in /usr/local/lib/python3.10/dist-packages (from tensorflow) (0.2.0)\n",
            "Requirement already satisfied: h5py>=2.9.0 in /usr/local/lib/python3.10/dist-packages (from tensorflow) (3.9.0)\n",
            "Requirement already satisfied: libclang>=13.0.0 in /usr/local/lib/python3.10/dist-packages (from tensorflow) (18.1.1)\n",
            "Requirement already satisfied: ml-dtypes~=0.2.0 in /usr/local/lib/python3.10/dist-packages (from tensorflow) (0.2.0)\n",
            "Requirement already satisfied: opt-einsum>=2.3.2 in /usr/local/lib/python3.10/dist-packages (from tensorflow) (3.3.0)\n",
            "Requirement already satisfied: packaging in /usr/local/lib/python3.10/dist-packages (from tensorflow) (24.1)\n",
            "Requirement already satisfied: protobuf!=4.21.0,!=4.21.1,!=4.21.2,!=4.21.3,!=4.21.4,!=4.21.5,<5.0.0dev,>=3.20.3 in /usr/local/lib/python3.10/dist-packages (from tensorflow) (3.20.3)\n",
            "Requirement already satisfied: setuptools in /usr/local/lib/python3.10/dist-packages (from tensorflow) (67.7.2)\n",
            "Requirement already satisfied: six>=1.12.0 in /usr/local/lib/python3.10/dist-packages (from tensorflow) (1.16.0)\n",
            "Requirement already satisfied: termcolor>=1.1.0 in /usr/local/lib/python3.10/dist-packages (from tensorflow) (2.4.0)\n",
            "Requirement already satisfied: typing-extensions>=3.6.6 in /usr/local/lib/python3.10/dist-packages (from tensorflow) (4.12.2)\n",
            "Requirement already satisfied: wrapt<1.15,>=1.11.0 in /usr/local/lib/python3.10/dist-packages (from tensorflow) (1.14.1)\n",
            "Requirement already satisfied: tensorflow-io-gcs-filesystem>=0.23.1 in /usr/local/lib/python3.10/dist-packages (from tensorflow) (0.37.1)\n",
            "Requirement already satisfied: grpcio<2.0,>=1.24.3 in /usr/local/lib/python3.10/dist-packages (from tensorflow) (1.64.1)\n",
            "Requirement already satisfied: tensorboard<2.16,>=2.15 in /usr/local/lib/python3.10/dist-packages (from tensorflow) (2.15.2)\n",
            "Requirement already satisfied: tensorflow-estimator<2.16,>=2.15.0 in /usr/local/lib/python3.10/dist-packages (from tensorflow) (2.15.0)\n",
            "Requirement already satisfied: keras<2.16,>=2.15.0 in /usr/local/lib/python3.10/dist-packages (from tensorflow) (2.15.0)\n",
            "Requirement already satisfied: scipy>=1.3.2 in /usr/local/lib/python3.10/dist-packages (from scikit-learn) (1.11.4)\n",
            "Requirement already satisfied: joblib>=1.1.1 in /usr/local/lib/python3.10/dist-packages (from scikit-learn) (1.4.2)\n",
            "Requirement already satisfied: threadpoolctl>=2.0.0 in /usr/local/lib/python3.10/dist-packages (from scikit-learn) (3.5.0)\n",
            "Requirement already satisfied: wheel<1.0,>=0.23.0 in /usr/local/lib/python3.10/dist-packages (from astunparse>=1.6.0->tensorflow) (0.43.0)\n",
            "Requirement already satisfied: google-auth<3,>=1.6.3 in /usr/local/lib/python3.10/dist-packages (from tensorboard<2.16,>=2.15->tensorflow) (2.27.0)\n",
            "Requirement already satisfied: google-auth-oauthlib<2,>=0.5 in /usr/local/lib/python3.10/dist-packages (from tensorboard<2.16,>=2.15->tensorflow) (1.2.1)\n",
            "Requirement already satisfied: markdown>=2.6.8 in /usr/local/lib/python3.10/dist-packages (from tensorboard<2.16,>=2.15->tensorflow) (3.6)\n",
            "Requirement already satisfied: requests<3,>=2.21.0 in /usr/local/lib/python3.10/dist-packages (from tensorboard<2.16,>=2.15->tensorflow) (2.31.0)\n",
            "Requirement already satisfied: tensorboard-data-server<0.8.0,>=0.7.0 in /usr/local/lib/python3.10/dist-packages (from tensorboard<2.16,>=2.15->tensorflow) (0.7.2)\n",
            "Requirement already satisfied: werkzeug>=1.0.1 in /usr/local/lib/python3.10/dist-packages (from tensorboard<2.16,>=2.15->tensorflow) (3.0.3)\n",
            "Requirement already satisfied: cachetools<6.0,>=2.0.0 in /usr/local/lib/python3.10/dist-packages (from google-auth<3,>=1.6.3->tensorboard<2.16,>=2.15->tensorflow) (5.3.3)\n",
            "Requirement already satisfied: pyasn1-modules>=0.2.1 in /usr/local/lib/python3.10/dist-packages (from google-auth<3,>=1.6.3->tensorboard<2.16,>=2.15->tensorflow) (0.4.0)\n",
            "Requirement already satisfied: rsa<5,>=3.1.4 in /usr/local/lib/python3.10/dist-packages (from google-auth<3,>=1.6.3->tensorboard<2.16,>=2.15->tensorflow) (4.9)\n",
            "Requirement already satisfied: requests-oauthlib>=0.7.0 in /usr/local/lib/python3.10/dist-packages (from google-auth-oauthlib<2,>=0.5->tensorboard<2.16,>=2.15->tensorflow) (1.3.1)\n",
            "Requirement already satisfied: charset-normalizer<4,>=2 in /usr/local/lib/python3.10/dist-packages (from requests<3,>=2.21.0->tensorboard<2.16,>=2.15->tensorflow) (3.3.2)\n",
            "Requirement already satisfied: idna<4,>=2.5 in /usr/local/lib/python3.10/dist-packages (from requests<3,>=2.21.0->tensorboard<2.16,>=2.15->tensorflow) (3.7)\n",
            "Requirement already satisfied: urllib3<3,>=1.21.1 in /usr/local/lib/python3.10/dist-packages (from requests<3,>=2.21.0->tensorboard<2.16,>=2.15->tensorflow) (2.0.7)\n",
            "Requirement already satisfied: certifi>=2017.4.17 in /usr/local/lib/python3.10/dist-packages (from requests<3,>=2.21.0->tensorboard<2.16,>=2.15->tensorflow) (2024.7.4)\n",
            "Requirement already satisfied: MarkupSafe>=2.1.1 in /usr/local/lib/python3.10/dist-packages (from werkzeug>=1.0.1->tensorboard<2.16,>=2.15->tensorflow) (2.1.5)\n",
            "Requirement already satisfied: pyasn1<0.7.0,>=0.4.6 in /usr/local/lib/python3.10/dist-packages (from pyasn1-modules>=0.2.1->google-auth<3,>=1.6.3->tensorboard<2.16,>=2.15->tensorflow) (0.6.0)\n",
            "Requirement already satisfied: oauthlib>=3.0.0 in /usr/local/lib/python3.10/dist-packages (from requests-oauthlib>=0.7.0->google-auth-oauthlib<2,>=0.5->tensorboard<2.16,>=2.15->tensorflow) (3.2.2)\n"
          ]
        }
      ],
      "source": [
        "pip install numpy tensorflow pillow scikit-learn\n"
      ]
    },
    {
      "cell_type": "code",
      "source": [
        "import os\n",
        "import numpy as np\n",
        "import tensorflow as tf\n",
        "from tensorflow.keras.preprocessing.image import ImageDataGenerator\n",
        "from tensorflow.keras.models import Sequential\n",
        "from tensorflow.keras.layers import Flatten, Dense, Dropout\n",
        "from sklearn.model_selection import train_test_split\n",
        "from PIL import Image\n"
      ],
      "metadata": {
        "id": "wZJWt-yeDxjC"
      },
      "execution_count": null,
      "outputs": []
    },
    {
      "cell_type": "code",
      "source": [
        "IMG_SIZE = (64, 64)  # Size to which images will be resized\n",
        "BATCH_SIZE = 32      # Batch size for training\n",
        "TRAIN_TEST_SPLIT_RATIO = 0.9  # Ratio for splitting training and test data\n",
        "DATA_DIRS = ['/content/drive/MyDrive/homer_bart/Bart', '/content/drive/MyDrive/homer_bart/Homer']  # Update these paths\n"
      ],
      "metadata": {
        "id": "5ljMg6MCD12S"
      },
      "execution_count": null,
      "outputs": []
    },
    {
      "cell_type": "code",
      "source": [
        "def load_images_from_dirs(data_dirs):\n",
        "    images = []\n",
        "    labels = []\n",
        "    for data_dir in data_dirs:\n",
        "        label = os.path.basename(data_dir)  # Use the folder name as the label\n",
        "        for image_file in os.listdir(data_dir):\n",
        "            image_path = os.path.join(data_dir, image_file)\n",
        "            image = Image.open(image_path).resize(IMG_SIZE)\n",
        "            images.append(np.array(image))\n",
        "            labels.append(label)\n",
        "    return np.array(images), np.array(labels)\n"
      ],
      "metadata": {
        "id": "hO_cKzVIERyV"
      },
      "execution_count": null,
      "outputs": []
    },
    {
      "cell_type": "code",
      "source": [
        "images, labels = load_images_from_dirs(DATA_DIRS)\n",
        "\n",
        "# Encode labels\n",
        "label_to_index = {'Bart': 0, 'Homer': 1}\n",
        "encoded_labels = np.array([label_to_index[label] for label in labels])\n",
        "\n",
        "# Normalize images\n",
        "images = images / 255.0\n"
      ],
      "metadata": {
        "id": "adSm8PInEV4R"
      },
      "execution_count": null,
      "outputs": []
    },
    {
      "cell_type": "code",
      "source": [
        "X_train, X_test, y_train, y_test = train_test_split(images, encoded_labels, train_size=TRAIN_TEST_SPLIT_RATIO, )\n"
      ],
      "metadata": {
        "id": "6fVQttZkEcpD"
      },
      "execution_count": null,
      "outputs": []
    },
    {
      "cell_type": "code",
      "source": [
        "train_datagen = ImageDataGenerator()\n",
        "test_datagen = ImageDataGenerator()\n",
        "\n",
        "train_generator = train_datagen.flow(X_train, y_train, batch_size=BATCH_SIZE)\n",
        "test_generator = test_datagen.flow(X_test, y_test, batch_size=BATCH_SIZE)\n"
      ],
      "metadata": {
        "id": "C62JHA6NEhr5"
      },
      "execution_count": null,
      "outputs": []
    },
    {
      "cell_type": "code",
      "source": [
        "model = Sequential([\n",
        "    Flatten(input_shape=IMG_SIZE + (3,)),\n",
        "    Dense(20, activation='relu'),\n",
        "    Dense(10, activation='relu'),\n",
        "    Dense(1, activation='sigmoid')\n",
        "])\n"
      ],
      "metadata": {
        "id": "jE5QT-lIEk5m"
      },
      "execution_count": null,
      "outputs": []
    },
    {
      "cell_type": "code",
      "source": [
        "model = Sequential([\n",
        "    Flatten(input_shape=IMG_SIZE + (3,)),\n",
        "    Dense(500, activation='relu'),\n",
        "    Dense(250, activation='relu'),\n",
        "    Dense(70, activation='relu'),\n",
        "    Dense(1, activation='sigmoid')\n",
        "])"
      ],
      "metadata": {
        "id": "ONGeIfY3LP8z"
      },
      "execution_count": null,
      "outputs": []
    },
    {
      "cell_type": "code",
      "source": [
        "model.compile(optimizer='adam', loss='binary_crossentropy', metrics=['accuracy'])\n"
      ],
      "metadata": {
        "id": "JnwiJdtnEnxs"
      },
      "execution_count": null,
      "outputs": []
    },
    {
      "cell_type": "code",
      "source": [
        "model.fit(train_generator, epochs=25, batch_size=BATCH_SIZE)\n"
      ],
      "metadata": {
        "colab": {
          "base_uri": "https://localhost:8080/"
        },
        "id": "7VYygYDDErS9",
        "outputId": "1c7df338-a217-4d62-9de6-87f9f256eca2"
      },
      "execution_count": null,
      "outputs": [
        {
          "output_type": "stream",
          "name": "stdout",
          "text": [
            "Epoch 1/25\n",
            "8/8 [==============================] - 3s 90ms/step - loss: 4.4466 - accuracy: 0.5289\n",
            "Epoch 2/25\n",
            "8/8 [==============================] - 1s 98ms/step - loss: 0.8374 - accuracy: 0.5331\n",
            "Epoch 3/25\n",
            "8/8 [==============================] - 1s 90ms/step - loss: 0.8525 - accuracy: 0.5744\n",
            "Epoch 4/25\n",
            "8/8 [==============================] - 1s 83ms/step - loss: 0.9888 - accuracy: 0.6281\n",
            "Epoch 5/25\n",
            "8/8 [==============================] - 1s 107ms/step - loss: 0.7082 - accuracy: 0.6653\n",
            "Epoch 6/25\n",
            "8/8 [==============================] - 1s 103ms/step - loss: 0.6292 - accuracy: 0.7273\n",
            "Epoch 7/25\n",
            "8/8 [==============================] - 1s 121ms/step - loss: 0.5869 - accuracy: 0.7149\n",
            "Epoch 8/25\n",
            "8/8 [==============================] - 1s 121ms/step - loss: 0.6802 - accuracy: 0.7190\n",
            "Epoch 9/25\n",
            "8/8 [==============================] - 1s 117ms/step - loss: 0.6906 - accuracy: 0.6694\n",
            "Epoch 10/25\n",
            "8/8 [==============================] - 1s 114ms/step - loss: 0.6065 - accuracy: 0.7149\n",
            "Epoch 11/25\n",
            "8/8 [==============================] - 1s 143ms/step - loss: 0.4863 - accuracy: 0.7810\n",
            "Epoch 12/25\n",
            "8/8 [==============================] - 1s 185ms/step - loss: 0.4647 - accuracy: 0.7727\n",
            "Epoch 13/25\n",
            "8/8 [==============================] - 1s 136ms/step - loss: 0.5536 - accuracy: 0.7314\n",
            "Epoch 14/25\n",
            "8/8 [==============================] - 1s 163ms/step - loss: 0.5106 - accuracy: 0.7645\n",
            "Epoch 15/25\n",
            "8/8 [==============================] - 1s 90ms/step - loss: 0.3982 - accuracy: 0.8058\n",
            "Epoch 16/25\n",
            "8/8 [==============================] - 1s 109ms/step - loss: 0.4013 - accuracy: 0.8306\n",
            "Epoch 17/25\n",
            "8/8 [==============================] - 1s 95ms/step - loss: 0.2835 - accuracy: 0.8843\n",
            "Epoch 18/25\n",
            "8/8 [==============================] - 1s 124ms/step - loss: 0.3980 - accuracy: 0.8264\n",
            "Epoch 19/25\n",
            "8/8 [==============================] - 1s 78ms/step - loss: 0.3521 - accuracy: 0.8347\n",
            "Epoch 20/25\n",
            "8/8 [==============================] - 1s 91ms/step - loss: 0.4114 - accuracy: 0.8058\n",
            "Epoch 21/25\n",
            "8/8 [==============================] - 1s 121ms/step - loss: 0.4311 - accuracy: 0.7975\n",
            "Epoch 22/25\n",
            "8/8 [==============================] - 1s 111ms/step - loss: 0.3378 - accuracy: 0.8636\n",
            "Epoch 23/25\n",
            "8/8 [==============================] - 1s 85ms/step - loss: 0.2492 - accuracy: 0.8926\n",
            "Epoch 24/25\n",
            "8/8 [==============================] - 1s 83ms/step - loss: 0.3091 - accuracy: 0.8512\n",
            "Epoch 25/25\n",
            "8/8 [==============================] - 1s 177ms/step - loss: 0.2923 - accuracy: 0.8719\n"
          ]
        },
        {
          "output_type": "execute_result",
          "data": {
            "text/plain": [
              "<keras.src.callbacks.History at 0x7c3e8a509c30>"
            ]
          },
          "metadata": {},
          "execution_count": 184
        }
      ]
    },
    {
      "cell_type": "code",
      "source": [
        "test_loss, test_accuracy = model.evaluate(test_generator)\n",
        "print(f'Test Accuracy: {test_accuracy:.2f}')\n",
        "\n",
        "\n"
      ],
      "metadata": {
        "colab": {
          "base_uri": "https://localhost:8080/"
        },
        "id": "84la_A3kGQBZ",
        "outputId": "e0c83192-f07e-42ad-e451-5ff7cfb40b05"
      },
      "execution_count": null,
      "outputs": [
        {
          "output_type": "stream",
          "name": "stdout",
          "text": [
            "1/1 [==============================] - 0s 230ms/step - loss: 0.4490 - accuracy: 0.8148\n",
            "Test Accuracy: 0.81\n"
          ]
        }
      ]
    }
  ]
}